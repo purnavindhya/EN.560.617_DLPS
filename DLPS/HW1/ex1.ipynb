{
 "cells": [
  {
   "cell_type": "code",
   "execution_count": 1,
   "metadata": {},
   "outputs": [],
   "source": [
    "import pandas as pd\n",
    "import numpy as np\n",
    "import matplotlib.pyplot as plt\n",
    "import os"
   ]
  },
  {
   "cell_type": "markdown",
   "metadata": {},
   "source": [
    "# Exercise 1"
   ]
  },
  {
   "cell_type": "markdown",
   "metadata": {},
   "source": [
    "## 1.1"
   ]
  },
  {
   "cell_type": "code",
   "execution_count": 2,
   "metadata": {},
   "outputs": [
    {
     "data": {
      "image/png": "[encoded data removed]",
      "text/plain": [
       "<Figure size 640x480 with 1 Axes>"
      ]
     },
     "metadata": {},
     "output_type": "display_data"
    }
   ],
   "source": [
    "x_data = np.linspace(0, 10, 50)\n",
    "y_data = x_data * (np.sin(x_data))\n",
    "\n",
    "plt.figsize = (10, 10)  \n",
    "plt.plot(x_data, y_data)\n",
    "plt.xlabel('x')\n",
    "plt.ylabel('y')\n",
    "plt.show()"
   ]
  },
  {
   "cell_type": "markdown",
   "metadata": {},
   "source": [
    "## 1.2"
   ]
  },
  {
   "cell_type": "code",
   "execution_count": 3,
   "metadata": {},
   "outputs": [
    {
     "name": "stdout",
     "output_type": "stream",
     "text": [
      "DataFrame saved to: /Users/purnavindhyakota/Documents/Spring 24/DL for Physical Systems/HW1/your_data/assignment1_data.pkl\n",
      "            x         y\n",
      "0    0.000000  0.000000\n",
      "1    0.204082  0.041361\n",
      "2    0.408163  0.162010\n",
      "3    0.612245  0.351861\n",
      "4    0.816327  0.594804\n",
      "5    1.020408  0.869716\n",
      "6    1.224490  1.151795\n",
      "7    1.428571  1.414147\n",
      "8    1.632653  1.629531\n",
      "9    1.836735  1.772167\n",
      "10   2.040816  1.819509\n",
      "11   2.244898  1.753867\n",
      "12   2.448980  1.563797\n",
      "13   2.653061  1.245160\n",
      "14   2.857143  0.801798\n",
      "15   3.061224  0.245760\n",
      "16   3.265306 -0.402933\n",
      "17   3.469388 -1.116991\n",
      "18   3.673469 -1.863006\n",
      "19   3.877551 -2.602991\n",
      "20   4.081633 -3.296252\n",
      "21   4.285714 -3.901487\n",
      "22   4.489796 -4.379025\n",
      "23   4.693878 -4.693073\n",
      "24   4.897959 -4.813867\n",
      "25   5.102041 -4.719599\n",
      "26   5.306122 -4.398021\n",
      "27   5.510204 -3.847623\n",
      "28   5.714286 -3.078316\n",
      "29   5.918367 -2.111551\n",
      "30   6.122449 -0.979868\n",
      "31   6.326531  0.274140\n",
      "32   6.530612  1.599413\n",
      "33   6.734694  2.938505\n",
      "34   6.938776  4.230066\n",
      "35   7.142857  5.411632\n",
      "36   7.346939  6.422579\n",
      "37   7.551020  7.207126\n",
      "38   7.755102  7.717221\n",
      "39   7.959184  7.915180\n",
      "40   8.163265  7.775933\n",
      "41   8.367347  7.288768\n",
      "42   8.571429  6.458458\n",
      "43   8.775510  5.305703\n",
      "44   8.979592  3.866845\n",
      "45   9.183673  2.192835\n",
      "46   9.387755  0.347482\n",
      "47   9.591837 -1.594957\n",
      "48   9.795918 -3.552768\n",
      "49  10.000000 -5.440211\n"
     ]
    }
   ],
   "source": [
    "my_df = {\n",
    "    'x': x_data,\n",
    "    'y': y_data\n",
    "}\n",
    "my_df = pd.DataFrame(my_df)\n",
    "repository_path = \"/Users/purnavindhyakota/Documents/Spring 24/DL for Physical Systems/HW1/\"\n",
    "data_folder = os.path.join(repository_path, \"your_data\")\n",
    "\n",
    "os.makedirs(data_folder, exist_ok=True)\n",
    "\n",
    "pickle_file_path = os.path.join(data_folder, \"assignment1_data.pkl\")\n",
    "my_df.to_pickle(pickle_file_path)\n",
    "\n",
    "print(f\"DataFrame saved to: {pickle_file_path}\")\n",
    "\n",
    "print(my_df)"
   ]
  },
  {
   "cell_type": "markdown",
   "metadata": {},
   "source": [
    "## 1.3"
   ]
  },
  {
   "cell_type": "code",
   "execution_count": 4,
   "metadata": {},
   "outputs": [
    {
     "name": "stdout",
     "output_type": "stream",
     "text": [
      "Loaded DataFrame:\n",
      "            x         y\n",
      "0    0.000000  0.000000\n",
      "1    0.204082  0.041361\n",
      "2    0.408163  0.162010\n",
      "3    0.612245  0.351861\n",
      "4    0.816327  0.594804\n",
      "5    1.020408  0.869716\n",
      "6    1.224490  1.151795\n",
      "7    1.428571  1.414147\n",
      "8    1.632653  1.629531\n",
      "9    1.836735  1.772167\n",
      "10   2.040816  1.819509\n",
      "11   2.244898  1.753867\n",
      "12   2.448980  1.563797\n",
      "13   2.653061  1.245160\n",
      "14   2.857143  0.801798\n",
      "15   3.061224  0.245760\n",
      "16   3.265306 -0.402933\n",
      "17   3.469388 -1.116991\n",
      "18   3.673469 -1.863006\n",
      "19   3.877551 -2.602991\n",
      "20   4.081633 -3.296252\n",
      "21   4.285714 -3.901487\n",
      "22   4.489796 -4.379025\n",
      "23   4.693878 -4.693073\n",
      "24   4.897959 -4.813867\n",
      "25   5.102041 -4.719599\n",
      "26   5.306122 -4.398021\n",
      "27   5.510204 -3.847623\n",
      "28   5.714286 -3.078316\n",
      "29   5.918367 -2.111551\n",
      "30   6.122449 -0.979868\n",
      "31   6.326531  0.274140\n",
      "32   6.530612  1.599413\n",
      "33   6.734694  2.938505\n",
      "34   6.938776  4.230066\n",
      "35   7.142857  5.411632\n",
      "36   7.346939  6.422579\n",
      "37   7.551020  7.207126\n",
      "38   7.755102  7.717221\n",
      "39   7.959184  7.915180\n",
      "40   8.163265  7.775933\n",
      "41   8.367347  7.288768\n",
      "42   8.571429  6.458458\n",
      "43   8.775510  5.305703\n",
      "44   8.979592  3.866845\n",
      "45   9.183673  2.192835\n",
      "46   9.387755  0.347482\n",
      "47   9.591837 -1.594957\n",
      "48   9.795918 -3.552768\n",
      "49  10.000000 -5.440211\n"
     ]
    }
   ],
   "source": [
    "pickle_file_path = \"/Users/purnavindhyakota/Documents/Spring 24/DL for Physical Systems/HW1/your_data/assignment1_data.pkl\"  # Update with the correct path\n",
    "my_loaded_df = pd.read_pickle(pickle_file_path)\n",
    "\n",
    "print(\"Loaded DataFrame:\")\n",
    "print(my_loaded_df)"
   ]
  },
  {
   "cell_type": "markdown",
   "metadata": {},
   "source": [
    "## Exercise 2"
   ]
  },
  {
   "cell_type": "markdown",
   "metadata": {},
   "source": [
    "### 2.1"
   ]
  },
  {
   "cell_type": "code",
   "execution_count": 5,
   "metadata": {},
   "outputs": [
    {
     "name": "stdout",
     "output_type": "stream",
     "text": [
      "Probability that z is less than 0.52: 0.024997895148220435\n"
     ]
    }
   ],
   "source": [
    "from scipy.stats import norm\n",
    "mu_z = 1.5\n",
    "sigma_z = 0.5\n",
    "prob_x_less_than_052 = norm.cdf(0.52, loc=mu_z, scale=sigma_z)\n",
    "\n",
    "print(f\"Probability that z is less than 0.52: {prob_x_less_than_052}\")"
   ]
  },
  {
   "cell_type": "markdown",
   "metadata": {},
   "source": [
    "$ \\mathbb{P}(Z \\leq 0.52) = \\int_{z=-\\inf}^{0.52} p(z) dz $ \\\n",
    "$ \\implies \\mathbb{P}(Z \\leq 0.52) = \\int_{z=-\\inf}^{0.52} \\frac{1}{\\sqrt{2\\pi}} \\exp{ \\frac{-1}{2} \\frac{(z-1.5)^2}{0.25} } dz $ \\\n",
    "$ \\implies \\mathbb{P}(Z \\leq 0.52) = 0.024997 $"
   ]
  },
  {
   "cell_type": "markdown",
   "metadata": {},
   "source": [
    "### 2.2\n",
    "\n",
    "$ \\mathbb{E}(Z) = \\mu $ \\\n",
    "$ \\mathbb{E}(Z) = 1.5 $"
   ]
  },
  {
   "cell_type": "markdown",
   "metadata": {},
   "source": [
    "### 2.3\n",
    "\n",
    "$ \\mathbb{E}(Y) = \\mathbb{E}( Zx + 0.1x^2 ) $ \\\n",
    "$ \\implies \\mathbb{E}(Y) = \\mathbb{E}( Zx ) + 0.1x^2 $ \\\n",
    "$ \\implies \\mathbb{E}(Y) = x\\mathbb{E}( Z ) + 0.1x^2 $ \\\n",
    "$ \\implies \\mathbb{E}(Y) = 1.5x + 0.1x^2 $"
   ]
  },
  {
   "cell_type": "markdown",
   "metadata": {},
   "source": [
    "### 2.4\n",
    "\n",
    "$ var(Y) = \\mathbb{E}(Y^2) - (\\mathbb{E}(Y))^2 $ \\\n",
    "And,\n",
    "$ \\mathbb{E}(Y^2) = \\int_{z=-\\inf}^{\\inf} (zx + 0.1x^2)^2 p(z) dz $ \\\n",
    "$ \\implies \\mathbb{E}(Y^2) = \\int_{z=-\\inf}^{\\inf} ( z^2 x^2 + 0.01 x^4 + 0.2 z x^3 ) p(z) dz $ \\\n",
    "$ \\implies \\mathbb{E}(Y^2) = 2.25 x^2 + 0.01 x^4 + 0.3 x^3 $ \\\n",
    "And,\n",
    "$ (\\mathbb{E}(Y))^2 = (1.5x + 0.1 x^2)^2 = 2.25x^2 + 0.01 x^4 + 0.3 x^3 $ \\\n",
    "So,\n",
    "$ var(Y) = 0.25x^2 $"
   ]
  },
  {
   "cell_type": "markdown",
   "metadata": {},
   "source": [
    "# Exercise 3"
   ]
  },
  {
   "cell_type": "markdown",
   "metadata": {},
   "source": [
    "## 3.1"
   ]
  },
  {
   "cell_type": "code",
   "execution_count": 6,
   "metadata": {},
   "outputs": [
    {
     "name": "stdout",
     "output_type": "stream",
     "text": [
      "Original Vectors:\n",
      "[[ 1. -1.  0.]\n",
      " [ 2.  0.  0.]\n",
      " [ 2.  2.  1.]]\n",
      "\n",
      "Orthonormalized Vectors:\n",
      "[[ 0.33333333 -0.66666667  0.66666667]\n",
      " [ 0.66666667 -0.33333333 -0.66666667]\n",
      " [ 0.66666667  0.66666667  0.33333333]]\n"
     ]
    }
   ],
   "source": [
    "def gram_schmidt(S):\n",
    "    m,n=S.shape\n",
    "    # create matrix to store the orthonormal vectors\n",
    "    GM = np.zeros((m,n))\n",
    "    S_copy = S.copy()    \n",
    "\n",
    "    for i in range(n):\n",
    "        orthogonalized = S_copy[:,i]\n",
    "        orthogonalized -= GM[:,:i]@GM[:,:i].T@orthogonalized\n",
    "        GM[:,i] = orthogonalized/ np.linalg.norm(orthogonalized)\n",
    "\n",
    "    return GM\n",
    "\n",
    "S = np.array([ [1., 2., 2.] , [-1, 0., 2.] , [0., 0., 1.]] ).T\n",
    "\n",
    "orthonormalized_S = gram_schmidt(S)\n",
    "\n",
    "print(\"Original Vectors:\")\n",
    "print(S)\n",
    "print(\"\\nOrthonormalized Vectors:\")\n",
    "print(orthonormalized_S)\n"
   ]
  },
  {
   "cell_type": "markdown",
   "metadata": {},
   "source": [
    "Check if S is orthononormalized"
   ]
  },
  {
   "cell_type": "code",
   "execution_count": 7,
   "metadata": {},
   "outputs": [
    {
     "data": {
      "text/plain": [
       "True"
      ]
     },
     "execution_count": 7,
     "metadata": {},
     "output_type": "execute_result"
    }
   ],
   "source": [
    "np.allclose(orthonormalized_S.T@orthonormalized_S,np.eye(3))"
   ]
  },
  {
   "cell_type": "markdown",
   "metadata": {},
   "source": [
    "# 3.2"
   ]
  },
  {
   "cell_type": "markdown",
   "metadata": {},
   "source": [
    "$ X = U \\Sigma V^T$ \\\n",
    "$U = eigenvectors(XX^T)$ \\\n",
    "$V^T = eigenvectors(X^TX)$"
   ]
  },
  {
   "cell_type": "code",
   "execution_count": 8,
   "metadata": {},
   "outputs": [],
   "source": [
    "X = np.array([ [1., 0., 0., 0., 2.],\n",
    "[0., 0., 3., 0., 0.],\n",
    "[0., 0., 0., 0., 0.],\n",
    "[0., 2., 0., 0., 0.] ])"
   ]
  },
  {
   "cell_type": "code",
   "execution_count": 9,
   "metadata": {},
   "outputs": [
    {
     "name": "stdout",
     "output_type": "stream",
     "text": [
      "Matrix X:\n",
      "[[1. 0. 0. 0. 2.]\n",
      " [0. 0. 3. 0. 0.]\n",
      " [0. 0. 0. 0. 0.]\n",
      " [0. 2. 0. 0. 0.]]\n",
      "\n",
      "U:\n",
      "[[0. 1. 0. 0.]\n",
      " [1. 0. 0. 0.]\n",
      " [0. 0. 0. 1.]\n",
      " [0. 0. 1. 0.]]\n",
      "\n",
      "Sigma:\n",
      "[[3.         0.         0.         0.        ]\n",
      " [0.         2.23606798 0.         0.        ]\n",
      " [0.         0.         2.         0.        ]\n",
      " [0.         0.         0.         0.        ]]\n",
      "\n",
      "V^T:\n",
      "[[ 0.          0.          1.          0.          0.        ]\n",
      " [-0.4472136   0.          0.          0.         -0.89442719]\n",
      " [ 0.          1.          0.          0.          0.        ]\n",
      " [ 0.          0.          0.          1.          0.        ]\n",
      " [-0.89442719  0.          0.          0.          0.4472136 ]]\n"
     ]
    }
   ],
   "source": [
    "def get_Sigma(M): \n",
    "    if (np.size(np.dot(M, M.T)) > np.size(np.dot(M.T, M))): \n",
    "        A = np.dot(M.T, M) \n",
    "    else: \n",
    "        A = np.dot(M, M.T) \n",
    "        \n",
    "    eigenvalues, _ = np.linalg.eig(A) \n",
    "    eigenvalues = np.sqrt(eigenvalues) \n",
    "    B = np.sort(eigenvalues)[::-1]\n",
    "    \n",
    "    return np.diag(B)\n",
    "\n",
    "def get_U(M): \n",
    "    A = np.dot(M, M.T) \n",
    "        \n",
    "    eigenvalues, eigenvectors = np.linalg.eig(A) \n",
    "    ncols = np.argsort(eigenvalues)[::-1] \n",
    "    \n",
    "    return eigenvectors[:,ncols] \n",
    "\n",
    "def get_VT(M): \n",
    "    A = np.dot(M.T, M)\n",
    "        \n",
    "    eigenvalues, eigenvectors = np.linalg.eig(A) \n",
    "    ncols = np.argsort(eigenvalues)[::-1] \n",
    "    \n",
    "    return eigenvectors[:,ncols].T \n",
    "\n",
    "\n",
    "\n",
    "\n",
    "print(\"Matrix X:\")\n",
    "print(X)\n",
    "print(\"\\nU:\")\n",
    "print(get_U(X))\n",
    "print(\"\\nSigma:\")\n",
    "print(get_Sigma(X))\n",
    "print(\"\\nV^T:\")\n",
    "print(get_VT(X))\n"
   ]
  },
  {
   "cell_type": "markdown",
   "metadata": {},
   "source": [
    "Trying to get the original matrix for sanity check."
   ]
  },
  {
   "cell_type": "code",
   "execution_count": 10,
   "metadata": {},
   "outputs": [
    {
     "data": {
      "text/plain": [
       "array([[-1.,  0.,  0.,  0., -2.],\n",
       "       [ 0.,  0.,  3.,  0.,  0.],\n",
       "       [ 0.,  0.,  0.,  0.,  0.],\n",
       "       [ 0.,  2.,  0.,  0.,  0.]])"
      ]
     },
     "execution_count": 10,
     "metadata": {},
     "output_type": "execute_result"
    }
   ],
   "source": [
    "sigma_modified = np.concatenate((get_Sigma(X), np.array([0.,0.,0.,0.])[..., None]),1)\n",
    "get_U(X) @ sigma_modified @ get_VT(X)"
   ]
  },
  {
   "cell_type": "markdown",
   "metadata": {},
   "source": [
    "## 3.3"
   ]
  },
  {
   "cell_type": "code",
   "execution_count": 11,
   "metadata": {},
   "outputs": [],
   "source": [
    "vec = np.array([ np.sin(np.pi/4)*np.cos(np.pi/4), np.sin(np.pi/4)*np.sin(np.pi/8), np.cos(np.pi/8) ])"
   ]
  },
  {
   "cell_type": "code",
   "execution_count": 12,
   "metadata": {},
   "outputs": [
    {
     "name": "stdout",
     "output_type": "stream",
     "text": [
      "Vector: [0.5        0.27059805 0.92387953]\n",
      "Norm of the vector: 1.0847933882987288\n"
     ]
    }
   ],
   "source": [
    "def get_norm(x):\n",
    "    norm = 0\n",
    "    for i in range(len(x)):\n",
    "        norm += x[i]**2\n",
    "    return np.sqrt(norm)\n",
    "\n",
    "print(f\"Vector: {vec}\")\n",
    "print(f\"Norm of the vector: {get_norm(vec)}\")\n"
   ]
  }
 ],
 "metadata": {
  "kernelspec": {
   "display_name": "bnn_trials",
   "language": "python",
   "name": "python3"
  },
  "language_info": {
   "codemirror_mode": {
    "name": "ipython",
    "version": 3
   },
   "file_extension": ".py",
   "mimetype": "text/x-python",
   "name": "python",
   "nbconvert_exporter": "python",
   "pygments_lexer": "ipython3",
   "version": "3.11.0"
  }
 },
 "nbformat": 4,
 "nbformat_minor": 2
}
